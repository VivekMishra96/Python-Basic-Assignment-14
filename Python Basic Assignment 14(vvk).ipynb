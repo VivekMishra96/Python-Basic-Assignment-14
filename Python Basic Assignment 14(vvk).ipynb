{
 "cells": [
  {
   "cell_type": "code",
   "execution_count": null,
   "id": "4dde212b",
   "metadata": {},
   "outputs": [],
   "source": [
    "1. What does RGBA stand for?"
   ]
  },
  {
   "cell_type": "code",
   "execution_count": null,
   "id": "b42852b3",
   "metadata": {},
   "outputs": [],
   "source": [
    "Ans.An RGBA value is a tuple of 4 integers, each ranging from 0 to 255. The four integers correspond to the amount of red, green, blue, and alpha (transparency) in the color."
   ]
  },
  {
   "cell_type": "code",
   "execution_count": null,
   "id": "60b78e63",
   "metadata": {},
   "outputs": [],
   "source": [
    "2.From the Pillow module, how do you get the RGBA value of any images?"
   ]
  },
  {
   "cell_type": "code",
   "execution_count": null,
   "id": "9ae1089a",
   "metadata": {},
   "outputs": [],
   "source": [
    "Ans.A function call to ImageColor.getcolor('CornflowerBlue', 'RGBA') will return (100, 149, 237, 255), the RGBA value for that color."
   ]
  },
  {
   "cell_type": "code",
   "execution_count": null,
   "id": "4940abda",
   "metadata": {},
   "outputs": [],
   "source": [
    "3.What is a box tuple, and how does it work?"
   ]
  },
  {
   "cell_type": "code",
   "execution_count": null,
   "id": "571aa4ed",
   "metadata": {},
   "outputs": [],
   "source": [
    "Ans.A box tuple is a tuple value of four integers: the left-edge x-coordinate, the top-edge y-coordinate, the width, and the height, respectively."
   ]
  },
  {
   "cell_type": "code",
   "execution_count": null,
   "id": "6cfe9534",
   "metadata": {},
   "outputs": [],
   "source": [
    "4.Use your image and load in notebook then, How can you find out the width and height of an Image object?"
   ]
  },
  {
   "cell_type": "code",
   "execution_count": null,
   "id": "0c8ceeb4",
   "metadata": {},
   "outputs": [],
   "source": [
    "Ans.imageObj.size is a tuple of two integers, the width and the height."
   ]
  },
  {
   "cell_type": "code",
   "execution_count": null,
   "id": "5e3fb18c",
   "metadata": {},
   "outputs": [],
   "source": [
    "5.What method would you call to get Image object for a 100×100 image, excluding the lower-left quarter of it?"
   ]
  },
  {
   "cell_type": "code",
   "execution_count": null,
   "id": "edf35b5c",
   "metadata": {},
   "outputs": [],
   "source": [
    "Ans.imageObj.crop((0, 50, 50, 50)). Notice that you are passing a box tuple to crop(), not four separate integer arguments."
   ]
  },
  {
   "cell_type": "code",
   "execution_count": null,
   "id": "fe140cd4",
   "metadata": {},
   "outputs": [],
   "source": [
    "6.After making changes to an Image object, how could you save it as an image file?"
   ]
  },
  {
   "cell_type": "code",
   "execution_count": null,
   "id": "d14e42c6",
   "metadata": {},
   "outputs": [],
   "source": [
    "Ans.Call the imageObj.save('new_filename.png') method of the Image object."
   ]
  },
  {
   "cell_type": "code",
   "execution_count": null,
   "id": "96eb8842",
   "metadata": {},
   "outputs": [],
   "source": [
    "7.What module contains Pillow’s shape-drawing code?"
   ]
  },
  {
   "cell_type": "code",
   "execution_count": null,
   "id": "987c6269",
   "metadata": {},
   "outputs": [],
   "source": [
    "Ans.The ImageDraw module contains code to draw on images."
   ]
  },
  {
   "cell_type": "code",
   "execution_count": null,
   "id": "653fa45c",
   "metadata": {},
   "outputs": [],
   "source": [
    "8.Image objects do not have drawing methods. What kind of object does? How do you get this kind of object?"
   ]
  },
  {
   "cell_type": "code",
   "execution_count": null,
   "id": "bc5a7db1",
   "metadata": {},
   "outputs": [],
   "source": [
    "Ans.ImageDraw objects have shape-drawing methods such as point(), line(), or rectangle(). They are returned by passing the Image object to the ImageDraw.Draw() function."
   ]
  }
 ],
 "metadata": {
  "kernelspec": {
   "display_name": "Python 3 (ipykernel)",
   "language": "python",
   "name": "python3"
  },
  "language_info": {
   "codemirror_mode": {
    "name": "ipython",
    "version": 3
   },
   "file_extension": ".py",
   "mimetype": "text/x-python",
   "name": "python",
   "nbconvert_exporter": "python",
   "pygments_lexer": "ipython3",
   "version": "3.9.7"
  }
 },
 "nbformat": 4,
 "nbformat_minor": 5
}
